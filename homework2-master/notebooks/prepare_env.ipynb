{
 "cells": [
  {
   "cell_type": "markdown",
   "metadata": {},
   "source": [
    "# Prepare environment\n",
    "\n",
    "You must prepare your environment __if you have not done so in the previous exercises__ in order to do this homework. Follow the steps below."
   ]
  },
  {
   "cell_type": "markdown",
   "metadata": {},
   "source": [
    "-----\n",
    "1. Run the next cell, and verify that you are logged as you, and not as someone else"
   ]
  },
  {
   "cell_type": "code",
   "execution_count": null,
   "metadata": {},
   "outputs": [],
   "source": [
    "echo \"You are ${HADOOP_USER_NAME:-nobody}\"\n",
    "echo \"You are ${JUPYTERHUB_USER:-nobody}\""
   ]
  },
  {
   "cell_type": "markdown",
   "metadata": {},
   "source": [
    "-----\n",
    "2. Run the code below and verify the existance of your database. Execute step 3 if you have a database.\\\n",
    "Otherwise go to step 6, if it shows an empty list as shown below:\n",
    "\n",
    "```\n",
    "    +-----------------+\n",
    "    |  database_name  |\n",
    "    +-----------------+\n",
    "    +-----------------+\n",
    "```"
   ]
  },
  {
   "cell_type": "code",
   "execution_count": null,
   "metadata": {},
   "outputs": [],
   "source": [
    "beeline -n \"${JUPYTERHUB_USER:-nobody}\" -p \"\" -e \"show databases like '${JUPYTERHUB_USER:-nobody}'\""
   ]
  },
  {
   "cell_type": "markdown",
   "metadata": {},
   "source": [
    "-----\n",
    "3. Review the content of your database if you have one."
   ]
  },
  {
   "cell_type": "code",
   "execution_count": null,
   "metadata": {},
   "outputs": [],
   "source": [
    "beeline -n \"${JUPYTERHUB_USER:-nobody}\" -p \"\" -e \"show tables in ${JUPYTERHUB_USER:-nobody};\""
   ]
  },
  {
   "cell_type": "markdown",
   "metadata": {},
   "source": [
    "-----\n",
    "4. Drop your database after having reviewed its content in step 3, and __you are ok losing its content__."
   ]
  },
  {
   "cell_type": "code",
   "execution_count": null,
   "metadata": {},
   "outputs": [],
   "source": [
    "beeline -n \"${JUPYTERHUB_USER:-nobody}\" -p \"\" -e \"drop database if exists ${JUPYTERHUB_USER:-nobody} cascade;\""
   ]
  },
  {
   "cell_type": "markdown",
   "metadata": {},
   "source": [
    "-----\n",
    "5. Verify that you the database is gone"
   ]
  },
  {
   "cell_type": "code",
   "execution_count": null,
   "metadata": {},
   "outputs": [],
   "source": [
    "beeline -n \"${JUPYTERHUB_USER:-nobody}\" -p \"\" -e \"show databases like '${JUPYTERHUB_USER:-nobody}';\""
   ]
  },
  {
   "cell_type": "markdown",
   "metadata": {},
   "source": [
    "-----\n",
    "6. Run the remaining cells to reconstruct your hive folder and reconfigure ACL permissions on HDFS"
   ]
  },
  {
   "cell_type": "code",
   "execution_count": null,
   "metadata": {},
   "outputs": [],
   "source": [
    "hdfs dfs -ls /user/${JUPYTERHUB_USER:-nobody}"
   ]
  },
  {
   "cell_type": "code",
   "execution_count": null,
   "metadata": {},
   "outputs": [],
   "source": [
    "hdfs dfs -rm -r -f -skipTrash /user/${JUPYTERHUB_USER:-nobody}/hive\n",
    "hdfs dfs -rm -r -f -skipTrash /user/${usJUPYTERHUB_USER:-nobody}/.Trash"
   ]
  },
  {
   "cell_type": "code",
   "execution_count": null,
   "metadata": {},
   "outputs": [],
   "source": [
    "hdfs dfs -mkdir -p                                /user/${JUPYTERHUB_USER:-nobody}/hive\n",
    "hdfs dfs -setfacl    -m group::r-x                /user/${JUPYTERHUB_USER:-nobody}\n",
    "hdfs dfs -setfacl    -m other::---                /user/${JUPYTERHUB_USER:-nobody}\n",
    "hdfs dfs -setfacl    -m default:group::r-x        /user/${JUPYTERHUB_USER:-nobody}\n",
    "hdfs dfs -setfacl    -m default:other::---        /user/${JUPYTERHUB_USER:-nobody}\n",
    "hdfs dfs -setfacl -R -m group::r-x                /user/${JUPYTERHUB_USER:-nobody}/hive\n",
    "hdfs dfs -setfacl -R -m other::---                /user/${JUPYTERHUB_USER:-nobody}/hive\n",
    "hdfs dfs -setfacl -R -m default:group::r-x        /user/${JUPYTERHUB_USER:-nobody}/hive\n",
    "hdfs dfs -setfacl -R -m default:other::---        /user/${JUPYTERHUB_USER:-nobody}/hive\n",
    "hdfs dfs -setfacl    -m user:hive:rwx             /user/${JUPYTERHUB_USER:-nobody}/hive\n",
    "hdfs dfs -setfacl    -m default:user:hive:rwx     /user/${JUPYTERHUB_USER:-nobody}/hive"
   ]
  },
  {
   "cell_type": "markdown",
   "metadata": {},
   "source": [
    "-----\n",
    "7. Recreate the __external__ tables `sbb_orc` and `sbb_05_11_2018` which you will need in the homework."
   ]
  },
  {
   "cell_type": "code",
   "execution_count": null,
   "metadata": {},
   "outputs": [],
   "source": [
    "beeline -n \"${JUPYTERHUB_USER:-nobody}\" -p \"\" -e \"\n",
    "create database if not exists ${JUPYTERHUB_USER:-nobody} location '/user/${JUPYTERHUB_USER:-nobody}/hive';\n",
    "drop table if exists ${JUPYTERHUB_USER:-nobody}.sbb_orc;\n",
    "create external table ${JUPYTERHUB_USER:-nobody}.sbb_orc(\n",
    "        BETRIEBSTAG string,\n",
    "        FAHRT_BEZEICHNER string,\n",
    "        BETREIBER_ID string,\n",
    "        BETREIBER_ABK string,\n",
    "        BETREIBER_NAME string,\n",
    "        PRODUKT_ID string,\n",
    "        LINIEN_ID string,\n",
    "        LINIEN_TEXT string,\n",
    "        UMLAUF_ID string,\n",
    "        VERKEHRSMITTEL_TEXT string,\n",
    "        ZUSATZFAHRT_TF string,\n",
    "        FAELLT_AUS_TF string,\n",
    "        BPUIC string,\n",
    "        HALTESTELLEN_NAME string,\n",
    "        ANKUNFTSZEIT string,\n",
    "        AN_PROGNOSE string,\n",
    "        AN_PROGNOSE_STATUS string,\n",
    "        ABFAHRTSZEIT string,\n",
    "        AB_PROGNOSE string,\n",
    "        AB_PROGNOSE_STATUS string,\n",
    "        DURCHFAHRT_TF string\n",
    "    )\n",
    "    row format delimited fields terminated by ';'\n",
    "    stored as ORC\n",
    "    location '/data/sbb/orc/istdaten'\n",
    "    tblproperties ('skip.header.line.count'='1');\n",
    "    select count(*) from ${JUPYTERHUB_USER:-nobody}.sbb_orc;\n",
    "    \""
   ]
  },
  {
   "cell_type": "code",
   "execution_count": null,
   "metadata": {},
   "outputs": [],
   "source": [
    "beeline -n \"${JUPYTERHUB_USER:-nobody}\" -p \"\" -e \"   \n",
    "create external table if not exists ${JUPYTERHUB_USER:-nobody}.sbb_05_11_2018\n",
    "    stored as orc\n",
    "    as \n",
    "        select *\n",
    "        from ${JUPYTERHUB_USER:-nobody}.sbb_orc\n",
    "        where BETRIEBSTAG = '05.11.2018'\n",
    "\""
   ]
  },
  {
   "cell_type": "code",
   "execution_count": null,
   "metadata": {},
   "outputs": [],
   "source": []
  }
 ],
 "metadata": {
  "kernelspec": {
   "display_name": "Bash",
   "language": "bash",
   "name": "bash"
  },
  "language_info": {
   "codemirror_mode": "shell",
   "file_extension": ".sh",
   "mimetype": "text/x-sh",
   "name": "bash"
  }
 },
 "nbformat": 4,
 "nbformat_minor": 4
}
