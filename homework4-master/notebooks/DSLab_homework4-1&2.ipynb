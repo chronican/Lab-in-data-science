{
 "cells": [
  {
   "cell_type": "markdown",
   "metadata": {},
   "source": [
    "# DSLab Homework4 - More trains (PART I & II)\n",
    "\n",
    "## Hand-in Instructions:\n",
    "- __Due: 11.05.2021 23:59:59 CET__\n",
    "- your project must be private\n",
    "- git push your final verion to the master branch of your group's Renku repository before the due date\n",
    "- check if Dockerfile, environment.yml and requirements.txt are properly written\n",
    "- add necessary comments and discussion to make your codes readable\n",
    "\n",
    "## NS Streams\n",
    "For this homework, you will be working with the real-time streams of the NS, the train company of the Netherlands. You can see an example webpage that uses the same streams to display the train information on a map: https://spoorkaart.mwnn.nl/ . \n",
    "\n",
    "To help you and avoid having too many connections to the NS streaming servers, we have setup a service that collects the streams and pushes them to our Kafka instance. The related topics are: \n",
    "\n",
    "`ndovloketnl-arrivals`: For each arrival of a train in a station, describe the previous and next station, time of arrival (planned and actual), track number,...\n",
    "\n",
    "`ndovloketnl-departures`: For each departure of a train from a station, describe the previous and next station, time of departure (planned and actual), track number,...\n",
    "\n",
    "`ndovloketnl-gps`: For each train, describe the current location, speed, bearing.\n",
    "\n",
    "The events are serialized in JSON (actually converted from XML), with properties in their original language. Google translate could help you understand all of them, but we will provide you with some useful mappings."
   ]
  },
  {
   "cell_type": "markdown",
   "metadata": {},
   "source": [
    "---"
   ]
  },
  {
   "cell_type": "markdown",
   "metadata": {},
   "source": [
    "**Part I & II are in ipython kernel**"
   ]
  },
  {
   "cell_type": "code",
   "execution_count": null,
   "metadata": {},
   "outputs": [],
   "source": [
    "ipython = get_ipython()\n",
    "print('Current kernel: {}'.format(ipython.kernel.kernel_info['implementation']))"
   ]
  },
  {
   "cell_type": "markdown",
   "metadata": {},
   "source": [
    "---"
   ]
  },
  {
   "cell_type": "markdown",
   "metadata": {},
   "source": [
    "## Create a Kafka client"
   ]
  },
  {
   "cell_type": "code",
   "execution_count": null,
   "metadata": {},
   "outputs": [],
   "source": [
    "import os\n",
    "from pykafka import KafkaClient\n",
    "from pykafka.common import OffsetType\n",
    "import pandas as pd\n",
    "\n",
    "username = os.environ['JUPYTERHUB_USER']\n",
    "\n",
    "ZOOKEEPER_QUORUM = 'iccluster040.iccluster.epfl.ch:2181,' \\\n",
    "                   'iccluster064.iccluster.epfl.ch:2181,' \\\n",
    "                   'iccluster065.iccluster.epfl.ch:2181'\n",
    "\n",
    "client = KafkaClient(zookeeper_hosts=ZOOKEEPER_QUORUM)"
   ]
  },
  {
   "cell_type": "markdown",
   "metadata": {},
   "source": [
    "---"
   ]
  },
  {
   "cell_type": "markdown",
   "metadata": {},
   "source": [
    "## PART I - Live Plot (20 points)\n",
    "\n",
    "The goal of this part is to obtain an interactive plot use the train positions from the GPS stream."
   ]
  },
  {
   "cell_type": "markdown",
   "metadata": {},
   "source": [
    "First, let's write a function to decode the messages from the `ndovloketnl-gps` topic."
   ]
  },
  {
   "cell_type": "code",
   "execution_count": null,
   "metadata": {
    "scrolled": true
   },
   "outputs": [],
   "source": [
    "import json\n",
    "from pykafka.common import OffsetType\n",
    "\n",
    "example_gps = client.topics[b'ndovloketnl-gps'].get_simple_consumer(\n",
    "    auto_offset_reset=OffsetType.EARLIEST,\n",
    "    reset_offset_on_start=True\n",
    ").consume()\n",
    "\n",
    "print(json.dumps(json.loads(example_gps.value), indent=2))"
   ]
  },
  {
   "cell_type": "markdown",
   "metadata": {},
   "source": [
    "We can see that the message has the following structure:\n",
    "\n",
    "```\n",
    "{\n",
    "  'tns3:ArrayOfTreinLocation': {\n",
    "    'tns3:TreinLocation': [\n",
    "      <train_info_1>,\n",
    "      <train_info_2>,\n",
    "      ...\n",
    "    ]\n",
    "  }\n",
    "}\n",
    "```\n",
    "\n",
    "Each `<train_info_x>` message contains:\n",
    "- `tns3:TreinNummer`: the train number. This number is used in passenger information displays.\n",
    "- `tns3:TreinMaterieelDelen`:\n",
    "    - `tns3:MaterieelDeelNummer`: the train car number. It identifies the physical train car.\n",
    "    - `tns3:Materieelvolgnummer`: the car position. 1 is the car in front of the train, 2 the next one, etc.\n",
    "    - `tns3:GpsDatumTijd`: the datetime given by the GPS.\n",
    "    - `tns3:Latitude`, `tns3:Longitude`, `tns3:Elevation`: 3D coordinates given by the GPS.\n",
    "    - `tns3:Snelheid`: speed, most likely given by the GPS.\n",
    "    - `tns3:Richting`: heading, most likely given by the GPS.\n",
    "    - `tns3:AantalSatelieten`: number of GPS satellites in view.\n",
    "    - ...\n",
    "\n",
    "We also notice that when a train is composed of multiple cars, the position is given in an array, with the position of all individual cars."
   ]
  },
  {
   "cell_type": "markdown",
   "metadata": {},
   "source": [
    "### a) Extract data - 5/20\n",
    "\n",
    "Write a function `extract_gps_data` which takes the message as input and extracts the train number, train car and GPS data from the source messages. Using this function, you should be able to obtain the example table, or something similar:\n",
    "\n",
    "|            timestamp | train_number | car_number | car_position |       longitude |        latitude | elevation | heading | speed |\n",
    "|---------------------:|-------------:|-----------:|-------------:|----------------:|----------------:|----------:|--------:|------:|\n",
    "| 2021-04-26T11:18:38Z | 4651         | 2414       | 1            | 4.4337813744686 | 52.126090732796 | 0.0       | 0.0     | 0     |\n",
    "| 2021-04-26T11:18:29Z | 646          | 4029       | 1            | 6.13383283333   | 52.788337       | 0.0       | 104.83  | 103.0 |\n",
    "| 2021-04-26T11:18:29Z | 5747         | 2628       | 1            | 4.8238861121011 | 52.338504198172 | 0.0       | 90.5    | 126.0 |\n",
    "| 2021-04-26T11:18:19Z | 5747         | 2430       | 2            | 4.8168466316014 | 52.338447739203 | 0.0       | 85.8    | 118.8 |\n",
    "\n",
    "\n",
    "__Note:__\n",
    "- The messages can be occaionally are empty, for example, `tns3:ArrayOfTreinLocation` or `tns3:TreinLocation` can be empty.\n",
    "- Not every message shares exactly the same structure, for example, `tns3:TreinMaterieelDelen` may be a list but not always\n",
    "- You may find Python disctionary [get(key, default)](https://docs.python.org/3.7/library/stdtypes.html#dict.get) method helpful."
   ]
  },
  {
   "cell_type": "code",
   "execution_count": null,
   "metadata": {
    "scrolled": true
   },
   "outputs": [],
   "source": [
    "import pandas as pd\n",
    "def extract_gps_data(msg):\n",
    "    data = []\n",
    "    Trein_array=msg.get('tns3:ArrayOfTreinLocation')\n",
    "    Trein_info=Trein_array.get('tns3:TreinLocation')\n",
    "    # print the \"empty message\" if messages are empty.\n",
    "    if (Trein_info is None) or (Trein_array is None):print('Empty message')\n",
    "    else:\n",
    "        for Trein in Trein_info:\n",
    "            Trein_number=Trein['tns3:TreinNummer']\n",
    "            Materieel_info = Trein.get('tns3:TreinMaterieelDelen')\n",
    "            if(type(Materieel_info) != list):\n",
    "                Materieel_info = [Materieel_info]\n",
    "            for Materieel in Materieel_info:\n",
    "                data.append([                    \n",
    "                Materieel.get('tns3:GpsDatumTijd'),\n",
    "                str(Trein_number),\n",
    "                Materieel.get('tns3:MaterieelDeelNummer'),\n",
    "                int(Materieel.get('tns3:Materieelvolgnummer')),\n",
    "                float(Materieel.get('tns3:Longitude')),\n",
    "                float(Materieel.get('tns3:Latitude')),\n",
    "                Materieel.get('tns3:Elevation'),\n",
    "                Materieel.get('tns3:Richting'),\n",
    "                Materieel.get('tns3:Snelheid'),])\n",
    "    return data"
   ]
  },
  {
   "cell_type": "code",
   "execution_count": null,
   "metadata": {
    "scrolled": true
   },
   "outputs": [],
   "source": [
    "df_example = pd.DataFrame(\n",
    "    data = extract_gps_data(json.loads(example_gps.value)),\n",
    "    columns = ['timestamp', 'train_number', 'car_number', 'car_position', \n",
    "               'longitude', 'latitude', 'elevation', 'heading', 'speed']\n",
    ")\n",
    "df_example.head(5)"
   ]
  },
  {
   "cell_type": "markdown",
   "metadata": {},
   "source": [
    "### b) Trains on the map - 5/20\n",
    "\n",
    "Each row of `df_example` represants one car of one train in the real world. \n",
    "\n",
    "Use `plotly` to properly visualize trains in the `df_example` on a map. Set `title` as the median timestamp and `hovername` as the train number.\n",
    "\n",
    "**Note:**\n",
    "- We expect the train positions to fall on rail tracks on the map. Showing each train as a circle is good enough. Check [Scatter Plots on Mapbox](https://plotly.com/python/scattermapbox/).\n",
    "- One train may have many cars. You do not need to show every car on the map, please keep only cars with `car_position` equal to '1'.\n",
    "- Set an interactive label with the train number (we do not expect train type, as this needs to be recovered from other sources)."
   ]
  },
  {
   "cell_type": "code",
   "execution_count": null,
   "metadata": {},
   "outputs": [],
   "source": [
    "import plotly.express as px"
   ]
  },
  {
   "cell_type": "code",
   "execution_count": null,
   "metadata": {},
   "outputs": [],
   "source": [
    "# keep only cars with car_position =1\n",
    "df_example = df_example[df_example.car_position.eq(1)]\n",
    "df_example[\"timestamp\"] = pd.to_datetime(df_example[\"timestamp\"]).dt.tz_convert('Europe/Amsterdam')"
   ]
  },
  {
   "cell_type": "code",
   "execution_count": null,
   "metadata": {},
   "outputs": [],
   "source": [
    "static_fig = px.scatter_mapbox(df_example, \n",
    "                               lat=\"latitude\", lon=\"longitude\", hover_name='train_number', \n",
    "                               hover_data={\"longitude\": False, \"latitude\": False},\n",
    "                               mapbox_style=\"carto-positron\",\n",
    "                               title=df_example[\"timestamp\"].quantile(0.5, interpolation=\"midpoint\").strftime('%Y-%m-%d %H:%M:%S')\n",
    "                              )"
   ]
  },
  {
   "cell_type": "code",
   "execution_count": null,
   "metadata": {},
   "outputs": [],
   "source": [
    "static_fig"
   ]
  },
  {
   "cell_type": "markdown",
   "metadata": {},
   "source": [
    "### c) Trains on the move - 10/20\n",
    "\n",
    "From the static map above, use `plotly` to make a live plot of the train positions consuming the `ndovloketnl-gps` stream.\n",
    "\n",
    "Upon receving a new message, you need to:\n",
    "\n",
    "- Update train locations\n",
    "- Update hover information\n",
    "- Update title\n",
    "\n",
    "You can compare your plot to one of the live services: https://spoorkaart.mwnn.nl/, http://treinenradar.nl/"
   ]
  },
  {
   "cell_type": "markdown",
   "metadata": {},
   "source": [
    "Create a simple consumer for `ndovloketnl-gps`, which consumes the earliest/latest information from the stream."
   ]
  },
  {
   "cell_type": "code",
   "execution_count": null,
   "metadata": {},
   "outputs": [],
   "source": [
    "consumer = client.topics[b'ndovloketnl-gps'].get_simple_consumer(\n",
    "    auto_offset_reset=OffsetType.LATEST, # OffsetType.EARLIEST\n",
    "    reset_offset_on_start=True\n",
    ")"
   ]
  },
  {
   "cell_type": "code",
   "execution_count": null,
   "metadata": {},
   "outputs": [],
   "source": [
    "import plotly.graph_objects as go\n",
    "\n",
    "stream_fig = go.FigureWidget(static_fig)\n",
    "stream_fig"
   ]
  },
  {
   "cell_type": "markdown",
   "metadata": {},
   "source": [
    "Make the plot alive. You can refer the exercise for an idea."
   ]
  },
  {
   "cell_type": "code",
   "execution_count": null,
   "metadata": {},
   "outputs": [],
   "source": [
    "import time\n",
    "import numpy as np\n",
    "\n",
    "\n",
    "# stream\n",
    "try:\n",
    "    for message in consumer:\n",
    "            \n",
    "        if message is not None:            \n",
    "            df_batch = pd.DataFrame(data = extract_gps_data(json.loads(message.value)),\n",
    "                                    columns = ['timestamp', 'train_number', 'car_number', 'car_position', \n",
    "                                               'longitude', 'latitude', 'elevation', 'heading', 'speed'])\n",
    "            df_batch = df_batch[df_batch.car_position.eq(1)]\n",
    "            df_batch[\"timestamp\"] = pd.to_datetime(df_batch[\"timestamp\"]).dt.tz_convert('Europe/Amsterdam')\n",
    "            with stream_fig.batch_update():\n",
    "                stream_fig.data[0].hovertext = df_batch.train_number\n",
    "                stream_fig.data[0].lat = df_batch.latitude\n",
    "                stream_fig.data[0].lon = df_batch.longitude\n",
    "                stream_fig.layout.title.text = df_batch[\"timestamp\"].quantile(0.5, interpolation=\"midpoint\").strftime('%Y-%m-%d %H:%M:%S')\n",
    "                \n",
    "        # sleep\n",
    "        time.sleep(0.1)\n",
    "except KeyboardInterrupt:\n",
    "    print(\"Plot interrupted.\")"
   ]
  },
  {
   "cell_type": "markdown",
   "metadata": {},
   "source": [
    "---"
   ]
  },
  {
   "cell_type": "markdown",
   "metadata": {},
   "source": [
    "## PART II - Locate Message (10 points)\n",
    "\n",
    "After you finish this part, you are able to locate the message given a specific timestamp.\n",
    "\n",
    "You can find below a helper function to read a message at a specific offset from a Kafka topic."
   ]
  },
  {
   "cell_type": "code",
   "execution_count": null,
   "metadata": {
    "scrolled": true
   },
   "outputs": [],
   "source": [
    "def fetch_message_at(topic, offset):\n",
    "    if isinstance(topic, str):\n",
    "        topic = topic.encode('utf-8')\n",
    "    t = client.topics[topic]\n",
    "    consumer = t.get_simple_consumer()\n",
    "    p = list(consumer.partitions.values())[0]\n",
    "    consumer.reset_offsets([(p, OffsetType.EARLIEST if offset == 0 else offset - 1)])\n",
    "    return consumer.consume()"
   ]
  },
  {
   "cell_type": "code",
   "execution_count": null,
   "metadata": {
    "scrolled": true
   },
   "outputs": [],
   "source": [
    "msg = fetch_message_at(b'ndovloketnl-gps', 34567)"
   ]
  },
  {
   "cell_type": "code",
   "execution_count": null,
   "metadata": {
    "scrolled": true
   },
   "outputs": [],
   "source": [
    "msg.offset"
   ]
  },
  {
   "cell_type": "code",
   "execution_count": null,
   "metadata": {
    "scrolled": true
   },
   "outputs": [],
   "source": [
    "msg.value"
   ]
  },
  {
   "cell_type": "markdown",
   "metadata": {},
   "source": [
    "### a) Median timestamp - 5/10\n",
    "\n",
    "Write a function to extract the median timestamp from a message of the `ndovloketnl-gps` topic. You can reuse the `extract_gps_data` function from part I."
   ]
  },
  {
   "cell_type": "code",
   "execution_count": null,
   "metadata": {
    "scrolled": true
   },
   "outputs": [],
   "source": [
    "example_gps = client.topics[b'ndovloketnl-gps'].get_simple_consumer(\n",
    "    auto_offset_reset=OffsetType.EARLIEST,\n",
    "    reset_offset_on_start=True\n",
    ").consume()"
   ]
  },
  {
   "cell_type": "code",
   "execution_count": null,
   "metadata": {
    "scrolled": true
   },
   "outputs": [],
   "source": [
    "import pandas as pd\n",
    "import numpy as np\n",
    "from datetime import datetime\n",
    "def extract_gps_time_approx(msg):\n",
    "    # extract data from the function extract_gps_data\n",
    "    data = pd.DataFrame(extract_gps_data(msg))\n",
    "    for i in range(len(data[0])):\n",
    "        data[0][i].replace(\"Z\",\"\")\n",
    "        data[0][i].replace(\"T\", \" \")\n",
    "    median=data[0].astype('datetime64[ns]').quantile(0.5, interpolation=\"midpoint\")\n",
    "    return median"
   ]
  },
  {
   "cell_type": "code",
   "execution_count": null,
   "metadata": {},
   "outputs": [],
   "source": [
    "assert extract_gps_time_approx(json.loads(example_gps.value)) == np.datetime64('2021-04-27T19:53:15.000000000')"
   ]
  },
  {
   "cell_type": "markdown",
   "metadata": {},
   "source": [
    "### b) Binary search - 5/10\n",
    "\n",
    "Using `fetch_message_at` and `extract_gps_time_approx`, write a function named `search_gps` to find the \"first\" offset for a given timestamp in the `ndovloketnl-gps` topic. You function should use [Binary Search Algorithm](https://en.wikipedia.org/wiki/Binary_search_algorithm).\n",
    "\n",
    "More preciseley, if we note `offset = search_gps(ts)` where `ts` is a timestamp, then we have:\n",
    "```\n",
    "ts <= extract_gps_time_approx(fetch_message_at('ndovloketnl-gps', offset))\n",
    "\n",
    "extract_gps_time_approx(fetch_message_at('ndovloketnl-gps', offset - 1)) < ts\n",
    "```"
   ]
  },
  {
   "cell_type": "code",
   "execution_count": null,
   "metadata": {
    "scrolled": true
   },
   "outputs": [],
   "source": [
    "def search_gps(findTime):\n",
    "    starts = client.topics[b'ndovloketnl-gps'].earliest_available_offsets()[0].offset[0]\n",
    "    ends = client.topics[b'ndovloketnl-gps'].latest_available_offsets()[0].offset[0]\n",
    "    while(starts <= ends):\n",
    "        m= starts + (ends- starts)//2\n",
    "        ts_after_offset = extract_gps_time_approx(json.loads(fetch_message_at('ndovloketnl-gps', m).value)) \n",
    "        ts_before_offset = extract_gps_time_approx(json.loads(fetch_message_at('ndovloketnl-gps', m - 1).value)) \n",
    "        if ts_before_offset < findTime <= ts_after_offset:\n",
    "            return m\n",
    "        elif ts_after_offset > findTime:\n",
    "            ends=m-1\n",
    "        else:\n",
    "            starts=m+1\n",
    "    return m"
   ]
  },
  {
   "cell_type": "code",
   "execution_count": null,
   "metadata": {},
   "outputs": [],
   "source": [
    "def test_search_gps(tsStr):\n",
    "    ts = np.datetime64(tsStr)\n",
    "    offset = search_gps(ts)\n",
    "    ts_after_offset = extract_gps_time_approx(json.loads(fetch_message_at('ndovloketnl-gps', offset).value))\n",
    "    ts_before_offset = extract_gps_time_approx(json.loads(fetch_message_at('ndovloketnl-gps', offset - 1).value))\n",
    "    assert ts_before_offset < ts <= ts_after_offset"
   ]
  },
  {
   "cell_type": "code",
   "execution_count": null,
   "metadata": {},
   "outputs": [],
   "source": [
    "test_search_gps('2021-05-05 06:00:06')"
   ]
  },
  {
   "cell_type": "code",
   "execution_count": null,
   "metadata": {},
   "outputs": [],
   "source": [
    "test_search_gps('2021-05-05 08:00:00')"
   ]
  },
  {
   "cell_type": "code",
   "execution_count": null,
   "metadata": {},
   "outputs": [],
   "source": [
    "test_search_gps('2021-05-05 11:00:00')"
   ]
  }
 ],
 "metadata": {
  "kernelspec": {
   "display_name": "Python 3",
   "language": "python",
   "name": "python3"
  },
  "language_info": {
   "codemirror_mode": {
    "name": "ipython",
    "version": 3
   },
   "file_extension": ".py",
   "mimetype": "text/x-python",
   "name": "python",
   "nbconvert_exporter": "python",
   "pygments_lexer": "ipython3",
   "version": "3.7.6"
  }
 },
 "nbformat": 4,
 "nbformat_minor": 4
}
