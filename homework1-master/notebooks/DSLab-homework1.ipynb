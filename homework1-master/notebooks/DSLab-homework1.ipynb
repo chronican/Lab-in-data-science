{
 "cells": [
  {
   "cell_type": "markdown",
   "metadata": {},
   "source": [
    "# DSLab Homework 1 - Data Science with CO2\n",
    "\n",
    "## Hand-in Instructions\n",
    "\n",
    "- __Due: 23.03.2021 23h59 CET__\n",
    "- `git push` your final verion to the master branch of your group's Renku repository before the due\n",
    "- check if `Dockerfile`, `environment.yml` and `requirements.txt` are properly written\n",
    "- add necessary comments and discussion to make your codes readable"
   ]
  },
  {
   "cell_type": "markdown",
   "metadata": {},
   "source": [
    "## Carbosense\n",
    "\n",
    "The project Carbosense establishes a uniquely dense CO2 sensor network across Switzerland to provide near-real time information on man-made emissions and CO2 uptake by the biosphere. The main goal of the project is to improve the understanding of the small-scale CO2 fluxes in Switzerland and concurrently to contribute to a better top-down quantification of the Swiss CO2 emissions. The Carbosense network has a spatial focus on the City of Zurich where more than 50 sensors are deployed. Network operations started in July 2017.\n",
    "\n",
    "<img src=\"http://carbosense.wdfiles.com/local--files/main:project/CarboSense_MAP_20191113_LowRes.jpg\" width=\"500\">\n",
    "\n",
    "<img src=\"http://carbosense.wdfiles.com/local--files/main:sensors/LP8_ZLMT_3.JPG\" width=\"156\">  <img src=\"http://carbosense.wdfiles.com/local--files/main:sensors/LP8_sensor_SMALL.jpg\" width=\"300\">"
   ]
  },
  {
   "cell_type": "markdown",
   "metadata": {},
   "source": [
    "## Description of the homework\n",
    "\n",
    "In this homework, we will curate a set of **CO2 measurements**, measured from cheap but inaccurate sensors, that have been deployed in the city of Zurich from the Carbosense project. The goal of the exercise is twofold: \n",
    "\n",
    "1. Learn how to deal with real world sensor timeseries data, and organize them efficiently using python dataframes.\n",
    "\n",
    "2. Apply data science tools to model the measurements, and use the learned model to process them (e.g., detect drifts in the sensor measurements). \n",
    "\n",
    "The sensor network consists of 46 sites, located in different parts of the city. Each site contains three different sensors measuring (a) **CO2 concentration**, (b) **temperature**, and (c) **humidity**. Beside these measurements, we have the following additional information that can be used to process the measurements: \n",
    "\n",
    "1. The **altitude** at which the CO2 sensor is located, and the GPS coordinates (latitude, longitude).\n",
    "\n",
    "2. A clustering of the city of Zurich in 17 different city **zones** and the zone in which the sensor belongs to. Some characteristic zones are industrial area, residential area, forest, glacier, lake, etc.\n",
    "\n",
    "## Prior knowledge\n",
    "\n",
    "The average value of the CO2 in a city is approximately 400 ppm. However, the exact measurement in each site depends on parameters such as the temperature, the humidity, the altitude, and the level of traffic around the site. For example, sensors positioned in high altitude (mountains, forests), are expected to have a much lower and uniform level of CO2 than sensors that are positioned in a business area with much higher traffic activity. Moreover, we know that there is a strong dependence of the CO2 measurements, on temperature and humidity.\n",
    "\n",
    "Given this knowledge, you are asked to define an algorithm that curates the data, by detecting and removing potential drifts. **The algorithm should be based on the fact that sensors in similar conditions are expected to have similar measurements.** \n",
    "\n",
    "## To start with\n",
    "\n",
    "The following csv files in the `../data/carbosense-raw/` folder will be needed: \n",
    "\n",
    "1. `CO2_sensor_measurements.csv`\n",
    "    \n",
    "   __Description__: It containts the CO2 measurements `CO2`, the name of the site `LocationName`, a unique sensor identifier `SensorUnit_ID`, and the time instance in which the measurement was taken `timestamp`.\n",
    "    \n",
    "2. `temperature_humidity.csv`\n",
    "\n",
    "   __Description__: It contains the temperature and the humidity measurements for each sensor identifier, at each timestamp `Timestamp`. For each `SensorUnit_ID`, the temperature and the humidity can be found in the corresponding columns of the dataframe `{SensorUnit_ID}.temperature`, `{SensorUnit_ID}.humidity`.\n",
    "    \n",
    "3. `sensor_metadata.csv`\n",
    "\n",
    "   __Description__: It contains the name of the site `LocationName`, the zone index `zone`, the altitude in meters `altitude`, the longitude `lon`, and the latitude `lat`. \n",
    "\n",
    "Import the following python packages:"
   ]
  },
  {
   "cell_type": "code",
   "execution_count": null,
   "metadata": {},
   "outputs": [],
   "source": [
    "import pandas as pd\n",
    "import numpy as np\n",
    "import sklearn\n",
    "import plotly.express as px\n",
    "import plotly.graph_objects as go\n",
    "import os\n",
    "\n",
    "from sklearn.cluster import KMeans\n",
    "from sklearn.datasets import make_blobs\n",
    "from yellowbrick.cluster import KElbowVisualizer\n",
    "import matplotlib.pyplot as plt\n",
    "\n",
    "from causalimpact import CausalImpact\n",
    "\n",
    "from sklearn.linear_model import LinearRegression\n",
    "from sklearn import datasets, linear_model\n",
    "from sklearn.model_selection import TimeSeriesSplit\n",
    "from sklearn.model_selection import cross_validate\n",
    "from sklearn.model_selection import cross_val_score\n",
    "from sklearn.metrics import mean_squared_error\n",
    "\n",
    "!git lfs pull\n",
    "\n",
    "pd.options.mode.chained_assignment = None"
   ]
  },
  {
   "cell_type": "markdown",
   "metadata": {},
   "source": [
    "## PART I: Handling time series with pandas (10 points)"
   ]
  },
  {
   "cell_type": "markdown",
   "metadata": {},
   "source": [
    "### a) **8/10**\n",
    "\n",
    "Merge the `CO2_sensor_measurements.csv`, `temperature_humidity.csv`, and `sensors_metadata.csv`, into a single dataframe. \n",
    "\n",
    "* The merged dataframe contains:\n",
    "    - index: the time instance `timestamp` of the measurements\n",
    "    - columns: the location of the site `LocationName`, the sensor ID `SensorUnit_ID`, the CO2 measurement `CO2`, the `temperature`, the `humidity`, the `zone`, the `altitude`, the longitude `lon` and the latitude `lat`.\n",
    "\n",
    "| timestamp | LocationName | SensorUnit_ID | CO2 | temperature | humidity | zone | altitude | lon | lat |\n",
    "|:---------:|:------------:|:-------------:|:---:|:-----------:|:--------:|:----:|:--------:|:---:|:---:|\n",
    "|    ...    |      ...     |      ...      | ... |     ...     |    ...   |  ... |    ...   | ... | ... |\n",
    "\n",
    "\n",
    "\n",
    "* For each measurement (CO2, humidity, temperature), __take the average over an interval of 30 min__. \n",
    "\n",
    "* If there are missing measurements, __interpolate them linearly__ from measurements that are close by in time.\n",
    "\n",
    "__Hints__: The following methods could be useful\n",
    "\n",
    "1. ```python \n",
    "pandas.DataFrame.resample()\n",
    "``` \n",
    "https://pandas.pydata.org/pandas-docs/stable/reference/api/pandas.DataFrame.resample.html\n",
    "    \n",
    "2. ```python\n",
    "pandas.DataFrame.interpolate()\n",
    "```\n",
    "https://pandas.pydata.org/pandas-docs/stable/reference/api/pandas.DataFrame.interpolate.html\n",
    "    \n",
    "3. ```python\n",
    "pandas.DataFrame.mean()\n",
    "```\n",
    "https://pandas.pydata.org/pandas-docs/stable/reference/api/pandas.DataFrame.mean.html\n",
    "    \n",
    "4. ```python\n",
    "pandas.DataFrame.append()\n",
    "```\n",
    "https://pandas.pydata.org/pandas-docs/stable/reference/api/pandas.DataFrame.append.html"
   ]
  },
  {
   "cell_type": "code",
   "execution_count": null,
   "metadata": {},
   "outputs": [],
   "source": [
    "#load data.\n",
    "CO2_sensor_measurements = pd.read_csv('../data/carbosense-raw/CO2_sensor_measurements.csv', sep='\\t')\n",
    "temperature_humidity = pd.read_csv('../data/carbosense-raw/temperature_humidity.csv', sep='\\t')\n",
    "sensors_metadata = pd.read_csv('../data/carbosense-raw/sensors_metadata.csv', sep='\\t')"
   ]
  },
  {
   "cell_type": "code",
   "execution_count": null,
   "metadata": {},
   "outputs": [],
   "source": [
    "# Check the missing data.\n",
    "print('Missing values in CO2_sensor_measurements:', CO2_sensor_measurements.isnull().sum().sum())\n",
    "print('Missing values in temperature_humidity:', temperature_humidity.isnull().sum().sum())\n",
    "print('Missing values in sensors_metadata:', sensors_metadata.isnull().sum().sum())"
   ]
  },
  {
   "cell_type": "code",
   "execution_count": null,
   "metadata": {},
   "outputs": [],
   "source": [
    "# fill the missing data.\n",
    "temperature_humidity.interpolate(method='linear', limit_direction='both', inplace=True)"
   ]
  },
  {
   "cell_type": "code",
   "execution_count": null,
   "metadata": {},
   "outputs": [],
   "source": [
    "# Check the missing data again.\n",
    "print('Missing values in temperature_humidity:', temperature_humidity.isnull().sum().sum())"
   ]
  },
  {
   "cell_type": "code",
   "execution_count": null,
   "metadata": {},
   "outputs": [],
   "source": [
    "# Melt the dataframe so the columns are converted to rows including timestamp, temp/hum and their respective value.\n",
    "melted_df = temperature_humidity.melt(id_vars=[\"Timestamp\"], var_name=\"Temp/Hum\", value_name=\"Value\")\n",
    "\n",
    "# Add a new column with the IDs and remove IDs from temp/hum.\n",
    "new = melted_df['Temp/Hum'].str[:4].rename('SensorUnit_ID')\n",
    "new_melted_df = pd.concat([melted_df, new], axis=1)\n",
    "new_melted_df['Temp/Hum'] = new_melted_df['Temp/Hum'].str[5:]\n",
    "\n",
    "# Pivot the table to get the correct format.\n",
    "new_temperature_humidity = new_melted_df.pivot_table(index=['Timestamp', 'SensorUnit_ID'], columns='Temp/Hum', values='Value')\\\n",
    "    .rename(columns={'humidity':'Humidity', 'temperature':'Temperature'})\\\n",
    "    .sort_values(by=['SensorUnit_ID', 'Timestamp']).reset_index()"
   ]
  },
  {
   "cell_type": "code",
   "execution_count": null,
   "metadata": {},
   "outputs": [],
   "source": [
    "# Convert timestamp columns to correct date/time format and set as indexes.\n",
    "CO2_sensor_measurements['Timestamp'] = pd.to_datetime(CO2_sensor_measurements['timestamp'])\n",
    "new_temperature_humidity['Timestamp'] = pd.to_datetime(new_temperature_humidity['Timestamp'])\n",
    "CO2_sensor_measurements.set_index('Timestamp', inplace=True)\n",
    "new_temperature_humidity.set_index('Timestamp', inplace=True)"
   ]
  },
  {
   "cell_type": "code",
   "execution_count": null,
   "metadata": {},
   "outputs": [],
   "source": [
    "# Resample CO2 df into 30 minute intervals, keep IDs & Location Names and average over CO2-values.\n",
    "CO2_resampled = CO2_sensor_measurements.groupby(['SensorUnit_ID', 'LocationName'])\\\n",
    "    .resample('30T', fill_method='ffill').mean()\n",
    "CO2_resampled= CO2_resampled.drop(columns='SensorUnit_ID').reset_index()\n",
    "CO2_resampled.CO2 = CO2_resampled.CO2.interpolate(method='linear')"
   ]
  },
  {
   "cell_type": "code",
   "execution_count": null,
   "metadata": {},
   "outputs": [],
   "source": [
    "# Resample Temp/Hum df into 30 minute intervals, keep IDs and average over Hum/Temp values.\n",
    "t_h_resampled = new_temperature_humidity.groupby(['SensorUnit_ID'])\\\n",
    "    .resample('30T', fill_method='ffill').mean().reset_index()\n",
    "t_h_resampled.Humidity = t_h_resampled.Humidity.interpolate(method='linear')\n",
    "t_h_resampled.Temperature = t_h_resampled.Temperature.interpolate(method='linear')"
   ]
  },
  {
   "cell_type": "code",
   "execution_count": null,
   "metadata": {},
   "outputs": [],
   "source": [
    "# Converting the SensorUnit_ID columns to int to make sure that merging works.\n",
    "CO2_resampled['SensorUnit_ID'] = CO2_resampled['SensorUnit_ID'].astype(int)\n",
    "t_h_resampled['SensorUnit_ID'] = t_h_resampled['SensorUnit_ID'].astype(int)"
   ]
  },
  {
   "cell_type": "code",
   "execution_count": null,
   "metadata": {},
   "outputs": [],
   "source": [
    "# Merging data.\n",
    "measures = pd.merge(t_h_resampled, CO2_resampled, how='right', \n",
    "                    on=['Timestamp', 'SensorUnit_ID']).reset_index()\n",
    "measures = pd.merge(measures.set_index('LocationName'), \n",
    "                    sensors_metadata.set_index('LocationName'), \n",
    "                    left_index=True, right_index=True)\\\n",
    "    .drop(columns=['index']).reset_index().set_index('Timestamp')\n",
    "measures = measures[['LocationName','SensorUnit_ID','CO2','Temperature','Humidity','zone','altitude','lon','lat']]"
   ]
  },
  {
   "cell_type": "code",
   "execution_count": null,
   "metadata": {},
   "outputs": [],
   "source": [
    "measures.head()"
   ]
  },
  {
   "cell_type": "markdown",
   "metadata": {},
   "source": [
    "### b) **2/10** \n",
    "\n",
    "Export the curated and ready to use timeseries to a csv file, and properly push the merged csv to Git LFS."
   ]
  },
  {
   "cell_type": "code",
   "execution_count": null,
   "metadata": {},
   "outputs": [],
   "source": [
    "measures.to_csv(r'../data/carbosense-raw/export_measures.csv', index = True, header=True)"
   ]
  },
  {
   "cell_type": "markdown",
   "metadata": {},
   "source": [
    "## PART II: Data visualization (15 points)"
   ]
  },
  {
   "cell_type": "markdown",
   "metadata": {},
   "source": [
    "### a) **5/15** \n",
    "Group the sites based on their altitude, by performing K-means clustering. \n",
    "- Find the optimal number of clusters using the [Elbow method](https://en.wikipedia.org/wiki/Elbow_method_(clustering)). \n",
    "- Wite out the formula of metric you use for Elbow curve. \n",
    "- Perform clustering with the optimal number of clusters and add an additional column `altitude_cluster` to the dataframe of the previous question indicating the altitude cluster index. \n",
    "- Report your findings.\n",
    "\n",
    "__Note__: [Yellowbrick](http://www.scikit-yb.org/) is a very nice Machine Learning Visualization extension to scikit-learn, which might be useful to you. "
   ]
  },
  {
   "cell_type": "markdown",
   "metadata": {},
   "source": [
    "formula of metric: mean sum of squared distances to centers."
   ]
  },
  {
   "cell_type": "code",
   "execution_count": null,
   "metadata": {},
   "outputs": [],
   "source": [
    "# cluster using Yellowbrick.\n",
    "altitudes = np.asarray(measures['altitude'].tolist())\n",
    "altitudes = altitudes.reshape(-1, 1)\n",
    "visualizer = KElbowVisualizer(KMeans())\n",
    "visualizer.fit(altitudes) \n",
    "visualizer.show()  \n",
    "elbow_value = visualizer.elbow_value_"
   ]
  },
  {
   "cell_type": "markdown",
   "metadata": {},
   "source": [
    "best k is 4 !"
   ]
  },
  {
   "cell_type": "code",
   "execution_count": null,
   "metadata": {},
   "outputs": [],
   "source": [
    "kmeans = KMeans(n_clusters=4)\n",
    "kmeans.fit(altitudes)\n",
    "\n",
    "measures['altitude_cluster'] = kmeans.predict(altitudes)"
   ]
  },
  {
   "cell_type": "markdown",
   "metadata": {},
   "source": [
    "finding: Four clusters are the best."
   ]
  },
  {
   "cell_type": "markdown",
   "metadata": {},
   "source": [
    "### b) **4/15** \n",
    "\n",
    "Use `plotly` (or other similar graphing libraries) to create an interactive plot of the monthly median CO2 measurement for each site with respect to the altitude. \n",
    "\n",
    "Add proper title and necessary hover information to each point, and give the same color to stations that belong to the same altitude cluster."
   ]
  },
  {
   "cell_type": "code",
   "execution_count": null,
   "metadata": {},
   "outputs": [],
   "source": [
    "CO2_median = measures.groupby(['LocationName', 'altitude', 'altitude_cluster']).agg({'CO2':'median'}).reset_index()   \n",
    "fig = px.scatter(CO2_median, x='altitude', y='CO2', color='altitude_cluster')\n",
    "\n",
    "fig.update_layout(title=go.layout.Title(text=\"Monthly median CO2 measurement for each site w.r.t the altitude\"))\n",
    "\n",
    "fig.show()"
   ]
  },
  {
   "cell_type": "markdown",
   "metadata": {},
   "source": [
    "### c) **6/15**\n",
    "\n",
    "Use `plotly` (or other similar graphing libraries) to plot an interactive time-varying density heatmap of the mean daily CO2 concentration for all the stations. Add proper title and necessary hover information.\n",
    "\n",
    "__Hints:__ Check following pages for more instructions:\n",
    "- [Animations](https://plotly.com/python/animations/)\n",
    "- [Density Heatmaps](https://plotly.com/python/mapbox-density-heatmaps/)"
   ]
  },
  {
   "cell_type": "code",
   "execution_count": null,
   "metadata": {},
   "outputs": [],
   "source": [
    "day = measures.index.day\n",
    "\n",
    "measures['day'] = day\n",
    "\n",
    "CO2_median_daily = measures.groupby(['day','LocationName', 'altitude', 'altitude_cluster','lat','lon'])\\\n",
    "    .agg({'CO2':'median'}).reset_index()\n",
    "\n",
    "center = dict(lat = CO2_median_daily['lat'].mean(), lon = CO2_median_daily['lon'].mean())\n",
    "                                                           \n",
    "fig2 = px.density_mapbox(CO2_median_daily, lat='lat', lon='lon',z='CO2',animation_frame=\"day\",hover_data=['LocationName'],radius=20,\n",
    "                        center=center, zoom=10,\n",
    "                        mapbox_style=\"stamen-terrain\")\n",
    "\n",
    "fig2.update_layout(title=go.layout.Title(text=\"Mean daily CO2 concentration for all the stations\"))\n",
    "\n",
    "fig2.show()"
   ]
  },
  {
   "cell_type": "markdown",
   "metadata": {},
   "source": [
    "## PART III: Model fitting for data curation (35 points)"
   ]
  },
  {
   "cell_type": "markdown",
   "metadata": {},
   "source": [
    "### a) **2/35**\n",
    "\n",
    "The domain experts in charge of these sensors report that one of the CO2 sensors `ZSBN` is exhibiting a drift on Oct. 24. Verify the drift by visualizing the CO2 concentration of the drifting sensor and compare it with some other sensors from the network. "
   ]
  },
  {
   "cell_type": "code",
   "execution_count": null,
   "metadata": {},
   "outputs": [],
   "source": [
    "# Define Dataframes for different locations for the Oct.\n",
    "\n",
    "data_drift = measures[measures['LocationName'] == 'ZSBN'] \n",
    "data_drift_sample = data_drift.loc['2017-10-1':'2017-10-31',].reset_index()\n",
    "\n",
    "data_drift_1 = measures[measures['LocationName'] == 'ZHBG']\n",
    "data_drift_sample_1 = data_drift_1.loc['2017-10-1':'2017-10-31'].reset_index()\n",
    "\n",
    "data_drift_2 = measures[measures['LocationName'] == 'ZWCH']\n",
    "data_drift_sample_2 = data_drift_2.loc['2017-10-1':'2017-10-31'].reset_index()\n",
    "\n",
    "\n",
    "# Plot results\n",
    "figure = plt.figure()\n",
    "plt.plot(data_drift_sample.Timestamp, data_drift_sample.CO2)\n",
    "plt.plot(data_drift_sample_1.Timestamp, data_drift_sample_1.CO2)\n",
    "plt.plot(data_drift_sample_2.Timestamp, data_drift_sample_2.CO2)\n",
    "plt.xlabel('Time')\n",
    "plt.ylabel('CO2')\n",
    "plt.legend(('ZSBN', 'ZHBG', 'ZWCH'), title='LocationName')"
   ]
  },
  {
   "cell_type": "markdown",
   "metadata": {},
   "source": [
    "It can be seen from the figure that Oct 24 may have drifted."
   ]
  },
  {
   "cell_type": "markdown",
   "metadata": {},
   "source": [
    "### b) **8/35**\n",
    "\n",
    "The domain experts ask you if you could reconstruct the CO2 concentration of the drifting sensor had the drift not happened. You decide to:\n",
    "- Fit a linear regression model to the CO2 measurements of the site, by considering as features the covariates not affected by the malfunction (such as temperature and humidity)\n",
    "- Create an interactive plot with `plotly` (or other similar graphing libraries):\n",
    "    - the actual CO2 measurements\n",
    "    - the values obtained by the prediction of the linear model for the entire month of October\n",
    "    - the __confidence interval__ obtained from cross validation\n",
    "- What do you observe? Report your findings.\n",
    "\n",
    "__Note:__ Cross validation on time series is different from that on other kinds of datasets. The following diagram illustrates the series of training sets (in orange) and validation sets (in blue). For more on time series cross validation, there are a lot of interesting articles available online. scikit-learn provides a nice method [`sklearn.model_selection.TimeSeriesSplit`](https://scikit-learn.org/stable/modules/generated/sklearn.model_selection.TimeSeriesSplit.html).\n",
    "\n",
    "![ts_cv](https://player.slideplayer.com/86/14062041/slides/slide_28.jpg)"
   ]
  },
  {
   "cell_type": "code",
   "execution_count": null,
   "metadata": {},
   "outputs": [],
   "source": [
    "# DataFrame for ZSBN location at all time \n",
    "measures_drift =  measures[measures['LocationName'] == 'ZSBN']\n",
    "\n",
    "# DataFrame for ZSBN location at Oct 1 - Oct 23 (before drift) \n",
    "measures_drift_by24 = measures_drift.loc['2017-10-01':'2017-10-23'].reset_index()\n",
    "\n",
    "# Data for linear regression\n",
    "X = pd.DataFrame(measures_drift_by24, columns=['Humidity', 'Temperature'])\n",
    "y = measures_drift_by24['CO2']\n",
    "X_all = pd.DataFrame(measures_drift, columns=['Humidity', 'Temperature'])\n",
    "\n",
    "# Linear regression and predict \n",
    "reg = LinearRegression().fit(X, y)\n",
    "CO2_predict = reg.predict(X_all)\n",
    "measures_drift['CO2_predict'] = CO2_predict\n",
    "measures_drift.reset_index()"
   ]
  },
  {
   "cell_type": "code",
   "execution_count": null,
   "metadata": {},
   "outputs": [],
   "source": [
    "# Calculate score and confidential interval by cross validation\n",
    "tscv = TimeSeriesSplit(n_splits=5)   \n",
    "reg = LinearRegression()\n",
    "scores = []\n",
    "\n",
    "scores = cross_validate(reg, X, y, cv=tscv, scoring= 'neg_root_mean_squared_error')['test_score']\n",
    "scores = np.abs(scores)\n",
    "sigma = np.mean(scores)\n",
    "\n",
    "# Confidential interval for 0.95\n",
    "measures_drift['confidence_low'] = measures_drift['CO2_predict'] - 1.96*sigma\n",
    "measures_drift['confidence_up'] = measures_drift['CO2_predict'] + 1.96*sigma"
   ]
  },
  {
   "cell_type": "code",
   "execution_count": null,
   "metadata": {},
   "outputs": [],
   "source": [
    "fig3 = go.Figure()\n",
    "fig3.add_trace(go.Scatter(x=measures_drift.index, y=measures_drift['CO2'],mode='lines+markers',name='Original Data'))\n",
    "fig3.add_trace(go.Scatter(x=measures_drift.index, y=measures_drift['CO2_predict'],mode='lines+markers',name='Predict Value'))\n",
    "fig3.add_trace(go.Scatter(x=measures_drift.index, y=measures_drift['confidence_low'],mode='lines',name='Confidence Low'))\n",
    "fig3.add_trace(go.Scatter(x=measures_drift.index, y=measures_drift['confidence_up'],mode='lines',name='Confidence Up'))\n",
    "fig3.update_layout(title=go.layout.Title(text=\"Predict CO2 value and confidential interval\"))\n",
    "fig3.show()"
   ]
  },
  {
   "cell_type": "markdown",
   "metadata": {},
   "source": [
    "We found that the observation on Oct 24 have a decrease, and thus we conclude that the sensor have a drift on Oct 24"
   ]
  },
  {
   "cell_type": "markdown",
   "metadata": {},
   "source": [
    "### c) **10/35**\n",
    "\n",
    "In your next attempt to solve the problem, you decide to exploit the fact that the CO2 concentrations, as measured by the sensors __experiencing similar conditions__, are expected to be similar.\n",
    "\n",
    "- Find the sensors sharing similar conditions with `ZSBN`. Explain your definition of \"similar condition\".\n",
    "- Fit a linear regression model to the CO2 measurements of the site, by considering as features:\n",
    "    - the information of provided by similar sensors\n",
    "    - the covariates associated with the faulty sensors that were not affected by the malfunction (such as temperature and humidity).\n",
    "- Create an interactive plot with `plotly` (or other similar graphing libraries):\n",
    "    - the actual CO2 measurements\n",
    "    - the values obtained by the prediction of the linear model for the entire month of October\n",
    "    - the __confidence interval__ obtained from cross validation\n",
    "- What do you observe? Report your findings."
   ]
  },
  {
   "cell_type": "code",
   "execution_count": null,
   "metadata": {},
   "outputs": [],
   "source": [
    "# choose the similar sensors\n",
    "# choose condition: the same cluster, lon gap < lon's std, lat gap < lat's std,\n",
    "drift_cluster = measures[measures['LocationName'] == 'ZSBN']['altitude_cluster'][0]\n",
    "drift_lat = measures[measures['LocationName'] == 'ZSBN']['lat'][0]\n",
    "drift_lon = measures[measures['LocationName'] == 'ZSBN']['lon'][0]\n",
    "std_lat = np.std(measures.lat)\n",
    "std_lon = np.std(measures.lon)\n",
    "similar_drift = measures[measures['altitude_cluster'] == drift_cluster].reset_index().set_index('Timestamp')\n",
    "similar_drift = similar_drift[similar_drift['lat'] <= drift_lat + std_lat].reset_index().set_index('Timestamp')\n",
    "similar_drift = similar_drift[similar_drift['lat'] >= drift_lat - std_lat].reset_index().set_index('Timestamp')\n",
    "similar_drift = similar_drift[similar_drift['lon'] <= drift_lon + std_lon].reset_index().set_index('Timestamp')\n",
    "similar_drift = similar_drift[similar_drift['lon'] >= drift_lon - std_lon].reset_index().set_index('Timestamp')\n",
    "similar_drift_by24 = similar_drift[similar_drift['LocationName'] != 'ZSBN'].reset_index().set_index('Timestamp')\n",
    "similar_drift_by24 = pd.concat( [measures_drift_by24.set_index('Timestamp'), similar_drift_by24], axis=0 )"
   ]
  },
  {
   "cell_type": "code",
   "execution_count": null,
   "metadata": {},
   "outputs": [],
   "source": [
    "# Linear regression and predict\n",
    "X = pd.DataFrame(similar_drift_by24, columns=['Humidity', 'Temperature','altitude'])\n",
    "y = similar_drift_by24['CO2']\n",
    "\n",
    "X_all = pd.DataFrame(measures_drift, columns=['Humidity', 'Temperature','altitude'])\n",
    "\n",
    "reg = LinearRegression().fit(X, y)\n",
    "CO2_predict = reg.predict(X_all)\n",
    "\n",
    "measures_drift['CO2_predict'] = CO2_predict\n",
    "measures_drift.reset_index()"
   ]
  },
  {
   "cell_type": "code",
   "execution_count": null,
   "metadata": {},
   "outputs": [],
   "source": [
    "# Calculate score and confidential interval by cross validation\n",
    "tscv = TimeSeriesSplit(n_splits=5)   \n",
    "scores = []\n",
    "scores = cross_validate(LinearRegression(), X, y, cv=tscv, scoring= 'neg_root_mean_squared_error')['test_score']\n",
    "scores = np.abs(scores)\n",
    "sigma = np.mean(scores)\n",
    "\n",
    "# Confidential interval for 0.95\n",
    "measures_drift['confidence_low'] = measures_drift['CO2_predict'] - 1.96*sigma\n",
    "measures_drift['confidence_up'] = measures_drift['CO2_predict'] + 1.96*sigma"
   ]
  },
  {
   "cell_type": "code",
   "execution_count": null,
   "metadata": {},
   "outputs": [],
   "source": [
    "fig4 = go.Figure()\n",
    "fig4.add_trace(go.Scatter(x=measures_drift.index, y=measures_drift['CO2'],mode='lines+markers',name='Original Data'))\n",
    "fig4.add_trace(go.Scatter(x=measures_drift.index, y=measures_drift['CO2_predict'],mode='lines+markers',name='Predict Value'))\n",
    "fig4.add_trace(go.Scatter(x=measures_drift.index, y=measures_drift['confidence_low'],mode='lines',name='Confidence Low'))\n",
    "fig4.add_trace(go.Scatter(x=measures_drift.index, y=measures_drift['confidence_up'],mode='lines',name='Confidence Up'))\n",
    "fig4.update_layout(title=go.layout.Title(text=\"CO2 value and predict CO2 value from linear regression\"))\n",
    "fig4.show()"
   ]
  },
  {
   "cell_type": "markdown",
   "metadata": {},
   "source": [
    "After the data augment, the confidencial interval become larger. We stiil find after Oct 24, the data is beyond  confidencial interval , so we conclude that the sensor have a drift at Oct 24."
   ]
  },
  {
   "cell_type": "markdown",
   "metadata": {},
   "source": [
    "### d) **10/35**\n",
    "\n",
    "Now, instead of feeding the model with all features, you want to do something smarter by using linear regression with fewer features.\n",
    "\n",
    "- Start with the same sensors and features as in question c)\n",
    "- Leverage at least two different feature selection methods\n",
    "- Create similar interactive plot as in question c)\n",
    "- Describe the methods you choose and report your findings"
   ]
  },
  {
   "cell_type": "markdown",
   "metadata": {},
   "source": [
    "We choose two methods: Feature selection and PCA"
   ]
  },
  {
   "cell_type": "code",
   "execution_count": null,
   "metadata": {},
   "outputs": [],
   "source": [
    "# method 1: Feature selection based on coefficient\n",
    "# pick the top k features with the highest coefficient\n",
    "feature_list = ['Humidity', 'Temperature','altitude']\n",
    "num_feature = 2\n",
    "\n",
    "X = pd.DataFrame(similar_drift_by24, columns=feature_list)\n",
    "y = similar_drift_by24['CO2']\n",
    "\n",
    "X_all = pd.DataFrame(measures_drift, columns=feature_list)\n",
    "\n",
    "reg = LinearRegression().fit(X, y)\n",
    "coef = np.abs(reg.coef_)\n",
    "\n",
    "idx =  np.argsort(coef)[-num_feature:]\n",
    "\n",
    "new_feature_list = [feature_list[i] for i in idx]"
   ]
  },
  {
   "cell_type": "code",
   "execution_count": null,
   "metadata": {},
   "outputs": [],
   "source": [
    "# Linear regression and predict\n",
    "X = pd.DataFrame(similar_drift_by24, columns=new_feature_list)\n",
    "y = similar_drift_by24['CO2']\n",
    "\n",
    "X_all = pd.DataFrame(measures_drift, columns=new_feature_list)\n",
    "\n",
    "reg = LinearRegression().fit(X, y)\n",
    "CO2_predict = reg.predict(X_all)\n",
    "\n",
    "measures_drift['CO2_predict'] = CO2_predict\n",
    "measures_drift.reset_index()"
   ]
  },
  {
   "cell_type": "code",
   "execution_count": null,
   "metadata": {},
   "outputs": [],
   "source": [
    "# Calculate score and confidential interval by cross validation\n",
    "tscv = TimeSeriesSplit(n_splits=5)   \n",
    "\n",
    "scores = []\n",
    "\n",
    "scores = cross_validate(LinearRegression(), X, y, cv=tscv, scoring= 'neg_root_mean_squared_error')['test_score']\n",
    "\n",
    "scores = np.abs(scores)\n",
    "sigma = np.mean(scores)\n",
    "\n",
    "# Confidential interval for 0.95\n",
    "measures_drift['confidence_low'] = measures_drift['CO2_predict'] - 1.96*sigma\n",
    "measures_drift['confidence_up'] = measures_drift['CO2_predict'] + 1.96*sigma"
   ]
  },
  {
   "cell_type": "code",
   "execution_count": null,
   "metadata": {},
   "outputs": [],
   "source": [
    "fig5 = go.Figure()\n",
    "fig5.add_trace(go.Scatter(x=measures_drift.index, y=measures_drift['CO2'],mode='lines+markers',name='Original Data'))\n",
    "fig5.add_trace(go.Scatter(x=measures_drift.index, y=measures_drift['CO2_predict'],mode='lines+markers',name='Predict Value'))\n",
    "fig5.add_trace(go.Scatter(x=measures_drift.index, y=measures_drift['confidence_low'],mode='lines',name='Confidence Low'))\n",
    "fig5.add_trace(go.Scatter(x=measures_drift.index, y=measures_drift['confidence_up'],mode='lines',name='Confidence Up'))\n",
    "fig5.show()"
   ]
  },
  {
   "cell_type": "code",
   "execution_count": null,
   "metadata": {},
   "outputs": [],
   "source": [
    "# method 2: Feature selection based on PCA\n",
    "from sklearn.decomposition import PCA\n",
    "\n",
    "feature_list = ['Humidity', 'Temperature','altitude']\n",
    "pca = PCA(n_components=2)\n",
    "\n",
    "\n",
    "X = pd.DataFrame(similar_drift_by24, columns=feature_list)\n",
    "x = pca.fit_transform(X)\n",
    "y = similar_drift_by24['CO2']\n",
    "\n",
    "reg = LinearRegression().fit(x, y)\n",
    "\n",
    "X_all = pd.DataFrame(measures_drift, columns=feature_list)\n",
    "x_all = pca.transform(X_all)\n",
    "\n",
    "\n",
    "coef = np.abs(reg.coef_)\n",
    "\n",
    "idx =  np.argsort(coef)[-num_feature:]\n",
    "\n",
    "new_feature_list = [feature_list[i] for i in idx]"
   ]
  },
  {
   "cell_type": "code",
   "execution_count": null,
   "metadata": {},
   "outputs": [],
   "source": [
    "# Linear regression and predict\n",
    "CO2_predict = reg.predict(x_all)\n",
    "\n",
    "measures_drift['CO2_predict'] = CO2_predict\n",
    "measures_drift.reset_index()"
   ]
  },
  {
   "cell_type": "code",
   "execution_count": null,
   "metadata": {},
   "outputs": [],
   "source": [
    "# Calculate score and confidential interval by cross validation\n",
    "tscv = TimeSeriesSplit(n_splits=5)   \n",
    "\n",
    "scores = []\n",
    "\n",
    "scores = cross_validate(LinearRegression(), x, y, cv=tscv, scoring= 'neg_root_mean_squared_error')['test_score']\n",
    "\n",
    "scores = np.abs(scores)\n",
    "sigma = np.mean(scores)\n",
    "\n",
    "# Confidential interval for 0.95\n",
    "measures_drift['confidence_low'] = measures_drift['CO2_predict'] - 1.96*sigma\n",
    "measures_drift['confidence_up'] = measures_drift['CO2_predict'] + 1.96*sigma"
   ]
  },
  {
   "cell_type": "code",
   "execution_count": null,
   "metadata": {},
   "outputs": [],
   "source": [
    "fig6 = go.Figure()\n",
    "fig6.add_trace(go.Scatter(x=measures_drift.index, y=measures_drift['CO2'],mode='lines+markers',name='Original Data'))\n",
    "fig6.add_trace(go.Scatter(x=measures_drift.index, y=measures_drift['CO2_predict'],mode='lines+markers',name='Predict Value'))\n",
    "fig6.add_trace(go.Scatter(x=measures_drift.index, y=measures_drift['confidence_low'],mode='lines',name='Confidence Low'))\n",
    "fig6.add_trace(go.Scatter(x=measures_drift.index, y=measures_drift['confidence_up'],mode='lines',name='Confidence Up'))\n",
    "fig6.show()"
   ]
  },
  {
   "cell_type": "markdown",
   "metadata": {},
   "source": [
    "We found that the confidence interval did not change significantly after using Feature selection and PCA."
   ]
  },
  {
   "cell_type": "markdown",
   "metadata": {},
   "source": [
    "### e) **5/35**\n",
    "\n",
    "Eventually, you'd like to try something new - __Bayesian Structural Time Series Modelling__ - to reconstruct counterfactual values, that is, what the CO2 measurements of the faulty sensor should have been, had the malfunction not happened on October 24. You will use:\n",
    "- the information of provided by similar sensors - the ones you identified in question c)\n",
    "- the covariates associated with the faulty sensors that were not affected by the malfunction (such as temperature and humidity).\n",
    "\n",
    "To answer this question, you can choose between a Python port of the CausalImpact package (such as https://github.com/dafiti/causalimpact) or the original R version (https://google.github.io/CausalImpact/CausalImpact.html) that you can run in your notebook via an R kernel (https://github.com/IRkernel/IRkernel).\n",
    "\n",
    "Before you start, watch first the [presentation](https://www.youtube.com/watch?v=GTgZfCltMm8) given by Kay Brodersen (one of the creators of the causal impact implementation in R), and this introductory [ipython notebook](http://nbviewer.jupyter.org/github/dafiti/causalimpact/blob/master/examples/getting_started.ipynb) with examples of how to use the python package.\n",
    "\n",
    "- Report your findings:\n",
    "    - Is the counterfactual reconstruction of CO2 measurements significantly different from the observed measurements?\n",
    "    - Can you try to explain the results?"
   ]
  },
  {
   "cell_type": "code",
   "execution_count": null,
   "metadata": {},
   "outputs": [],
   "source": [
    "# Use CausalImpact to analyze data\n",
    "pre_post = measures_drift.loc['2017-10-1':'2017-10-23',].index.size\n",
    "total = measures_drift.index.size\n",
    "pre_period = [0, pre_post - 1]\n",
    "post_period = [pre_post, total - 1]\n",
    "\n",
    "data = pd.DataFrame({'x0': measures_drift['Temperature'], 'x1': measures_drift['Humidity'], 'y': measures_drift['CO2']}, columns=['y', 'x0', 'x1']).reset_index().drop(['Timestamp'], axis=1)\n",
    "ci = CausalImpact(data, pre_period, post_period)\n",
    "ci.plot()"
   ]
  },
  {
   "cell_type": "markdown",
   "metadata": {},
   "source": [
    "As you can see from the graph, The drift starts at Oct 24."
   ]
  },
  {
   "cell_type": "markdown",
   "metadata": {},
   "source": [
    "# That's all, folks!"
   ]
  }
 ],
 "metadata": {
  "anaconda-cloud": {},
  "kernelspec": {
   "display_name": "Python 3",
   "language": "python",
   "name": "python3"
  },
  "language_info": {
   "codemirror_mode": {
    "name": "ipython",
    "version": 3
   },
   "file_extension": ".py",
   "mimetype": "text/x-python",
   "name": "python",
   "nbconvert_exporter": "python",
   "pygments_lexer": "ipython3",
   "version": "3.7.7"
  }
 },
 "nbformat": 4,
 "nbformat_minor": 4
}
